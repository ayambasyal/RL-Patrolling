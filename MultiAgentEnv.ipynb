{
 "cells": [
  {
   "cell_type": "code",
   "execution_count": 3,
   "id": "6e2f895f",
   "metadata": {},
   "outputs": [],
   "source": [
    "from pettingzoo.utils.env import ParallelEnv"
   ]
  },
  {
   "cell_type": "code",
   "execution_count": 4,
   "id": "0fb6a054",
   "metadata": {},
   "outputs": [],
   "source": [
    "class CustomEnvironment(ParallelEnv):\n",
    "    def __init__(self):\n",
    "        pass\n",
    "\n",
    "    def reset(self, seed=None, options=None):\n",
    "        pass\n",
    "\n",
    "    def step(self, actions):\n",
    "        pass\n",
    "\n",
    "    def render(self):\n",
    "        pass\n",
    "\n",
    "    def observation_space(self, agent):\n",
    "        return self.observation_spaces[agent]\n",
    "\n",
    "    def action_space(self, agent):\n",
    "        return self.action_spaces[agent]"
   ]
  },
  {
   "cell_type": "code",
   "execution_count": 12,
   "id": "2dac8122",
   "metadata": {},
   "outputs": [
    {
     "ename": "NameError",
     "evalue": "name 'policy' is not defined",
     "output_type": "error",
     "traceback": [
      "\u001b[0;31m---------------------------------------------------------------------------\u001b[0m",
      "\u001b[0;31mNameError\u001b[0m                                 Traceback (most recent call last)",
      "Cell \u001b[0;32mIn[12], line 7\u001b[0m\n\u001b[1;32m      5\u001b[0m \u001b[38;5;28;01mfor\u001b[39;00m agent \u001b[38;5;129;01min\u001b[39;00m env\u001b[38;5;241m.\u001b[39magent_iter():\n\u001b[1;32m      6\u001b[0m     observation, reward, termination, truncation, info \u001b[38;5;241m=\u001b[39m env\u001b[38;5;241m.\u001b[39mlast()\n\u001b[0;32m----> 7\u001b[0m     action \u001b[38;5;241m=\u001b[39m \u001b[43mpolicy\u001b[49m(observation, agent)\n\u001b[1;32m      8\u001b[0m     env\u001b[38;5;241m.\u001b[39mstep(action)\n",
      "\u001b[0;31mNameError\u001b[0m: name 'policy' is not defined"
     ]
    }
   ],
   "source": [
    "from pettingzoo.butterfly import knights_archers_zombies_v10\n",
    "\n",
    "env = knights_archers_zombies_v10.env()\n",
    "env.reset()\n",
    "for agent in env.agent_iter():\n",
    "    observation, reward, termination, truncation, info = env.last()\n",
    "    action = policy(observation, agent)\n",
    "    env.step(action)"
   ]
  },
  {
   "cell_type": "code",
   "execution_count": null,
   "id": "74e7f546",
   "metadata": {},
   "outputs": [],
   "source": []
  }
 ],
 "metadata": {
  "kernelspec": {
   "display_name": "Python 3 (ipykernel)",
   "language": "python",
   "name": "python3"
  },
  "language_info": {
   "codemirror_mode": {
    "name": "ipython",
    "version": 3
   },
   "file_extension": ".py",
   "mimetype": "text/x-python",
   "name": "python",
   "nbconvert_exporter": "python",
   "pygments_lexer": "ipython3",
   "version": "3.10.6"
  }
 },
 "nbformat": 4,
 "nbformat_minor": 5
}
