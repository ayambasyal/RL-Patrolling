{
 "cells": [
  {
   "cell_type": "code",
   "execution_count": 1,
   "id": "20177220",
   "metadata": {},
   "outputs": [],
   "source": [
    "import sys\n",
    "sys.path.append('pyFiles')\n",
    "from MultiAgentEnv3 import CustomEnvironment\n",
    "import networkx as nx\n",
    "import pprint\n",
    "import numpy as np\n",
    "import matplotlib.pyplot as plt"
   ]
  },
  {
   "cell_type": "markdown",
   "id": "99f25b33",
   "metadata": {},
   "source": [
    "## Q value"
   ]
  },
  {
   "cell_type": "code",
   "execution_count": 2,
   "id": "11d35ead",
   "metadata": {},
   "outputs": [],
   "source": [
    "def q_val(env,state,action,s_values):\n",
    "    env.reset()\n",
    "    env.state = state\n",
    "    reward = 0\n",
    "    observations, rewards, terminations, truncations, infos = env.step(action)\n",
    "    s_val_index = state_index_calculator(env,observations)\n",
    "    for agent in env.possible_police:\n",
    "        reward = rewards[agent]\n",
    "    return reward + 0.9*s_values[s_val_index]"
   ]
  },
  {
   "cell_type": "markdown",
   "id": "5cb0e2d3",
   "metadata": {},
   "source": [
    "## State Value Function , Max Action Function , State Index Calculator, State Calculator\n"
   ]
  },
  {
   "cell_type": "code",
   "execution_count": 3,
   "id": "b5b9ae2b",
   "metadata": {},
   "outputs": [],
   "source": [
    "def s_val(env,state,s_values):\n",
    "    for thief in env.possible_thieves:\n",
    "        for police in env.possible_police:\n",
    "            if state[thief] == state[police]:\n",
    "                return 0\n",
    "    q_values = []\n",
    "    for j in range(4):\n",
    "        for k in range(4):\n",
    "            for l in range(4):\n",
    "                temp_state = state.copy()\n",
    "                action = {env.possible_agents[0]:0,env.possible_agents[1]:j,env.possible_agents[2]:k,env.possible_agents[3]:l}\n",
    "                q_values.append(q_val(env,temp_state,action,s_values))\n",
    "    return max(q_values)\n",
    "\n",
    "def max_act(env,state,s_values):\n",
    "#     action = {env.possible_agents[0]:0,env.possible_agents[1]:0,env.possible_agents[2]:0,env.possible_agents[3]:0}\n",
    "#     for thief in env.possible_thieves:\n",
    "#         for police in env.possible_police:\n",
    "#             if state[thief] == state[police]:\n",
    "#                 return action\n",
    "    q_values = []\n",
    "    actions = []\n",
    "    temp_state = state.copy()\n",
    "    for k in range(4):\n",
    "        for l in range(4):\n",
    "            temp_state = state.copy()\n",
    "            action = {env.possible_agents[0]:0,env.possible_agents[1]:1,env.possible_agents[2]:k,env.possible_agents[3]:l}\n",
    "            q_values.append(q_val(env,temp_state,action,s_values))\n",
    "            actions.append(action)\n",
    "    max_val = max(q_values)\n",
    "    max_val_index = q_values.index(max_val)\n",
    "    env.state = state\n",
    "    return actions[max_val_index]\n",
    "\n",
    "def state_index_calculator(env,state):\n",
    "    multiplier = 1\n",
    "    state_index = 0\n",
    "    for agent in env.possible_agents:\n",
    "        state_index += env.node_inv_dict[state[agent]]* multiplier\n",
    "        multiplier *= 13\n",
    "    return state_index\n",
    "\n",
    "def state_calculator(env,state_index):\n",
    "    temp_state = {}\n",
    "    for n in range (4):\n",
    "        temp_state[env.possible_agents[n]] = env.node_dict[(state_index // (13**(3-n)))]\n",
    "        state_index = state_index % (13**(3-n))\n",
    "    return temp_state"
   ]
  },
  {
   "cell_type": "markdown",
   "id": "2c377b92",
   "metadata": {},
   "source": [
    "## Single Sweep"
   ]
  },
  {
   "cell_type": "code",
   "execution_count": 4,
   "id": "bfd31a98",
   "metadata": {},
   "outputs": [],
   "source": [
    "def single_sweep(env,s_values):\n",
    "    temp_value_func = [0] * env.g_no_node ** 4\n",
    "    for i in range(env.g_no_node**4):\n",
    "        state= state_calculator(env,i)\n",
    "        temp_value_func[i] = s_val(env,state,s_values)\n",
    "    return temp_value_func"
   ]
  },
  {
   "cell_type": "markdown",
   "id": "01a5564b",
   "metadata": {},
   "source": [
    "## Until Convergence"
   ]
  },
  {
   "cell_type": "code",
   "execution_count": 5,
   "id": "59c9a255",
   "metadata": {},
   "outputs": [
    {
     "name": "stdout",
     "output_type": "stream",
     "text": [
      "['thief_0', 'thief_1', 'police_0', 'police_1', 'police_2']\n"
     ]
    }
   ],
   "source": [
    "env = CustomEnvironment()\n",
    "s_values = 13**4\n",
    "print(env.possible_agents)"
   ]
  },
  {
   "cell_type": "code",
   "execution_count": 6,
   "id": "a898239a",
   "metadata": {},
   "outputs": [
    {
     "ename": "KeyError",
     "evalue": "'police_2'",
     "output_type": "error",
     "traceback": [
      "\u001b[0;31m---------------------------------------------------------------------------\u001b[0m",
      "\u001b[0;31mKeyError\u001b[0m                                  Traceback (most recent call last)",
      "Cell \u001b[0;32mIn[6], line 9\u001b[0m\n\u001b[1;32m      7\u001b[0m state \u001b[38;5;241m=\u001b[39m env\u001b[38;5;241m.\u001b[39mreset()\n\u001b[1;32m      8\u001b[0m temp_value_func \u001b[38;5;241m=\u001b[39m [v \u001b[38;5;28;01mfor\u001b[39;00m v \u001b[38;5;129;01min\u001b[39;00m s_values]\n\u001b[0;32m----> 9\u001b[0m s_values \u001b[38;5;241m=\u001b[39m \u001b[43msingle_sweep\u001b[49m\u001b[43m(\u001b[49m\u001b[43menv\u001b[49m\u001b[43m,\u001b[49m\u001b[43ms_values\u001b[49m\u001b[43m)\u001b[49m\n\u001b[1;32m     10\u001b[0m temp_diff \u001b[38;5;241m=\u001b[39m \u001b[38;5;241m0\u001b[39m;\n\u001b[1;32m     11\u001b[0m \u001b[38;5;28;01mfor\u001b[39;00m index \u001b[38;5;129;01min\u001b[39;00m \u001b[38;5;28mrange\u001b[39m(\u001b[38;5;28mlen\u001b[39m(s_values)):\n",
      "Cell \u001b[0;32mIn[4], line 5\u001b[0m, in \u001b[0;36msingle_sweep\u001b[0;34m(env, s_values)\u001b[0m\n\u001b[1;32m      3\u001b[0m \u001b[38;5;28;01mfor\u001b[39;00m i \u001b[38;5;129;01min\u001b[39;00m \u001b[38;5;28mrange\u001b[39m(env\u001b[38;5;241m.\u001b[39mg_no_node\u001b[38;5;241m*\u001b[39m\u001b[38;5;241m*\u001b[39m\u001b[38;5;241m4\u001b[39m):\n\u001b[1;32m      4\u001b[0m     state\u001b[38;5;241m=\u001b[39m state_calculator(env,i)\n\u001b[0;32m----> 5\u001b[0m     temp_value_func[i] \u001b[38;5;241m=\u001b[39m \u001b[43ms_val\u001b[49m\u001b[43m(\u001b[49m\u001b[43menv\u001b[49m\u001b[43m,\u001b[49m\u001b[43mstate\u001b[49m\u001b[43m,\u001b[49m\u001b[43ms_values\u001b[49m\u001b[43m)\u001b[49m\n\u001b[1;32m      6\u001b[0m \u001b[38;5;28;01mreturn\u001b[39;00m temp_value_func\n",
      "Cell \u001b[0;32mIn[3], line 4\u001b[0m, in \u001b[0;36ms_val\u001b[0;34m(env, state, s_values)\u001b[0m\n\u001b[1;32m      2\u001b[0m \u001b[38;5;28;01mfor\u001b[39;00m thief \u001b[38;5;129;01min\u001b[39;00m env\u001b[38;5;241m.\u001b[39mpossible_thieves:\n\u001b[1;32m      3\u001b[0m     \u001b[38;5;28;01mfor\u001b[39;00m police \u001b[38;5;129;01min\u001b[39;00m env\u001b[38;5;241m.\u001b[39mpossible_police:\n\u001b[0;32m----> 4\u001b[0m         \u001b[38;5;28;01mif\u001b[39;00m state[thief] \u001b[38;5;241m==\u001b[39m \u001b[43mstate\u001b[49m\u001b[43m[\u001b[49m\u001b[43mpolice\u001b[49m\u001b[43m]\u001b[49m:\n\u001b[1;32m      5\u001b[0m             \u001b[38;5;28;01mreturn\u001b[39;00m \u001b[38;5;241m0\u001b[39m\n\u001b[1;32m      6\u001b[0m q_values \u001b[38;5;241m=\u001b[39m []\n",
      "\u001b[0;31mKeyError\u001b[0m: 'police_2'"
     ]
    }
   ],
   "source": [
    "state = env.reset()\n",
    "s_values = [0] * env.g_no_node ** 4\n",
    "delta = 0.1\n",
    "diff = 1000\n",
    "count = 0\n",
    "while (diff > delta):\n",
    "    state = env.reset()\n",
    "    temp_value_func = [v for v in s_values]\n",
    "    s_values = single_sweep(env,s_values)\n",
    "    temp_diff = 0;\n",
    "    for index in range(len(s_values)):\n",
    "        temp_diff += abs(temp_value_func[index]-s_values[index])\n",
    "    diff = temp_diff\n",
    "    plt.plot(range(13**4),s_values)\n",
    "    plt.show()\n",
    "# print(s_values)\n",
    "s_values2 = [0] * env.g_no_node ** 4"
   ]
  },
  {
   "cell_type": "markdown",
   "id": "43ac3443",
   "metadata": {},
   "source": [
    "## Visualization of convergence"
   ]
  },
  {
   "cell_type": "code",
   "execution_count": 7,
   "id": "ec8a04d5",
   "metadata": {},
   "outputs": [
    {
     "data": {
      "text/plain": [
       "<Axes: >"
      ]
     },
     "execution_count": 7,
     "metadata": {},
     "output_type": "execute_result"
    },
    {
     "data": {
      "image/png": "[encoded data removed]",
      "text/plain": [
       "<Figure size 640x480 with 2 Axes>"
      ]
     },
     "metadata": {},
     "output_type": "display_data"
    }
   ],
   "source": [
    "import seaborn as sns\n",
    "import numpy as np\n",
    "x = np.zeros((169,169))\n",
    "\n",
    "for n in range(len(s_values)):\n",
    "    i = n // 169\n",
    "    j = n % 169\n",
    "    x[i,j] = s_values[n]\n",
    "    \n",
    "# sns.set(rc={'figure.figsize':(13,10)})\n",
    "sns.heatmap(x)"
   ]
  },
  {
   "cell_type": "markdown",
   "id": "8cbc71d2",
   "metadata": {},
   "source": [
    "## Implementataion of Policy"
   ]
  },
  {
   "cell_type": "code",
   "execution_count": null,
   "id": "a528cf2b",
   "metadata": {
    "scrolled": true
   },
   "outputs": [],
   "source": [
    "\n",
    "episodes = 1    \n",
    "for episode in range(1,episodes+1):\n",
    "    state = env.reset()\n",
    "    terminations = {agent:False for agent in env.possible_agents}\n",
    "    score = {a:0 for a in env.possible_agents}\n",
    "    count = 0\n",
    "    env.temp_render(episode)\n",
    "    terminated = False\n",
    "    while not terminated:\n",
    "        action = max_act(env,state,s_values)\n",
    "        observations, rewards, terminations, truncations, infos = env.step(action)\n",
    "        state = env.state\n",
    "        env.temp_render(episode)\n",
    "        if (terminations['thief_0'] == True):\n",
    "            print('terminating episode = {}'.format(count))\n",
    "            terminated = True\n",
    "        for agent in env.agents:\n",
    "            score[agent] += rewards[agent]\n",
    "        count += 1\n",
    "    print('Episode: {} Score: {} \\n'.format(episode,score))"
   ]
  },
  {
   "cell_type": "code",
   "execution_count": null,
   "id": "37214d67",
   "metadata": {},
   "outputs": [],
   "source": []
  }
 ],
 "metadata": {
  "kernelspec": {
   "display_name": "Python 3 (ipykernel)",
   "language": "python",
   "name": "python3"
  },
  "language_info": {
   "codemirror_mode": {
    "name": "ipython",
    "version": 3
   },
   "file_extension": ".py",
   "mimetype": "text/x-python",
   "name": "python",
   "nbconvert_exporter": "python",
   "pygments_lexer": "ipython3",
   "version": "3.10.6"
  }
 },
 "nbformat": 4,
 "nbformat_minor": 5
}
