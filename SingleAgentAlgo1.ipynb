{
 "cells": [
  {
   "cell_type": "code",
   "execution_count": 2,
   "id": "b7704463",
   "metadata": {},
   "outputs": [],
   "source": [
    "import sys\n",
    "sys.path.append('pyFiles')\n",
    "from singleAgentEnv import GraphEnv"
   ]
  },
  {
   "cell_type": "code",
   "execution_count": 3,
   "id": "8bbf79cb",
   "metadata": {},
   "outputs": [
    {
     "name": "stdout",
     "output_type": "stream",
     "text": [
      "(0.20552139150292098, 0.554666334735012)\n"
     ]
    }
   ],
   "source": [
    "env = GraphEnv()\n",
    "print(env.state)"
   ]
  },
  {
   "cell_type": "markdown",
   "id": "68de9bc9",
   "metadata": {},
   "source": [
    "### 1. Define the state transition probability\n",
    "State transition probablility is the \"probability\" of transitioning to the particular state(s') when an action(a) is chosen. \\\n",
    "This is in the case that if we choose to move to a particular node( moving to state(s') from state(s) ), there is a probability that we are not able to move to that node. \\\n",
    "Since, that is not the case here and \\\n",
    "**Choosing an action makes us move to next the node at all times the state transition function is 1 in all cases.** \n"
   ]
  },
  {
   "cell_type": "code",
   "execution_count": null,
   "id": "707e2e78",
   "metadata": {},
   "outputs": [],
   "source": [
    "#state_trans_prob=1\n"
   ]
  },
  {
   "cell_type": "markdown",
   "id": "155b221b",
   "metadata": {},
   "source": [
    "### 2. Initialize the value function\n",
    "Initially, the value for all states is 0 \n",
    "> The number of nodes(states) in the environment is given by (environment object).g_no_node .<br>\n",
    "> Each state corresponds to a state value and there are ( (environment object).g_no_node ) no of steps ."
   ]
  },
  {
   "cell_type": "code",
   "execution_count": 6,
   "id": "985855e2",
   "metadata": {},
   "outputs": [
    {
     "name": "stdout",
     "output_type": "stream",
     "text": [
      "State 0: Value = 0\n",
      "State 1: Value = 0\n",
      "State 2: Value = 0\n",
      "State 3: Value = 0\n",
      "State 4: Value = 0\n",
      "State 5: Value = 0\n",
      "State 6: Value = 0\n",
      "State 7: Value = 0\n",
      "State 8: Value = 0\n",
      "State 9: Value = 0\n",
      "State 10: Value = 0\n",
      "State 11: Value = 0\n",
      "State 12: Value = 0\n"
     ]
    }
   ],
   "source": [
    "value_function = [0]* env.g_no_node\n",
    "\n",
    "for state in range(env.g_no_node):\n",
    "    print(\"State {}: Value = {}\".format(state, value_function[state]))"
   ]
  },
  {
   "cell_type": "markdown",
   "id": "507a512d",
   "metadata": {},
   "source": [
    "### 3. Initialize the policy\n",
    "Policy is the probability distribution of taking an action(a) given the current state(s). <br>\n",
    "As we cannot choose action by ourself, the computer has to do it 😂 <br>\n",
    "we should give a certain probability for the system to choose action according to the state <br>\n",
    "We are dumb people so we set it to 1/3 as descrete values for all transitions <br>\n",
    "so that the computer chooses action with equal probability \n",
    "<br>\n",
    "<br>\n",
    "As every state action pair has to have a probability of transitions, maybe defining a ...d matrix works\n",
    "\n",
    "| State/Action | 0 | 1 | 2 |\n",
    "| --- | --- | --- | --- |\n",
    "| 0 | 1/3 | 1/3 | 1/3 |\n",
    "| 1 | 1/3 | 1/3 | 1/3 |\n",
    "| 2 | 1/3 | 1/3 | 1/3 |\n",
    "| 3 | 1/3 | 1/3 | 1/3 |\n",
    "| 4 | 1/3 | 1/3 | 1/3 |\n",
    "| ... | 1/3 | 1/3 | 1/3 |\n",
    "\n",
    "<br>\n",
    "As the state are described in discrete integer values, this table can be defined in such manner"
   ]
  },
  {
   "cell_type": "code",
   "execution_count": 18,
   "id": "72b40f65",
   "metadata": {},
   "outputs": [],
   "source": [
    "# the matrix defines the probablity of choosing an action\n",
    "number_of_states = env.g_no_node\n",
    "number_of_actions = 3\n",
    "\n",
    "m = np.ones((number_of_states))/number_of_actions\n",
    "\n",
    "print(\"state=action probability matrix:\\n\",m)"
   ]
  },
  {
   "attachments": {
    "image.png": {
     "image/png": "[encoded data removed]"
    }
   },
   "cell_type": "markdown",
   "id": "c30df663",
   "metadata": {},
   "source": [
    "### 4. Write the action value function\n",
    "This action value function returns the return/value of taking an action(a) at state(s) following a policy $\\pi$ <br>\n",
    "and with the current value data (that we defined previously)\n",
    "![image.png](attachment:image.png)"
   ]
  },
  {
   "cell_type": "code",
   "execution_count": null,
   "id": "859dd10b",
   "metadata": {},
   "outputs": [],
   "source": []
  }
 ],
 "metadata": {
  "kernelspec": {
   "display_name": "Python 3 (ipykernel)",
   "language": "python",
   "name": "python3"
  },
  "language_info": {
   "codemirror_mode": {
    "name": "ipython",
    "version": 3
   },
   "file_extension": ".py",
   "mimetype": "text/x-python",
   "name": "python",
   "nbconvert_exporter": "python",
   "pygments_lexer": "ipython3",
   "version": "3.10.11"
  }
 },
 "nbformat": 4,
 "nbformat_minor": 5
}
