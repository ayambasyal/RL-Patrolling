{
 "cells": [
  {
   "cell_type": "markdown",
   "id": "774278ce",
   "metadata": {},
   "source": [
    "## Run this block of code so that all the dependencies get installed"
   ]
  },
  {
   "cell_type": "markdown",
   "id": "10a7564d",
   "metadata": {},
   "source": [
    "### common libraries"
   ]
  },
  {
   "cell_type": "code",
   "execution_count": null,
   "id": "2a2b864e",
   "metadata": {},
   "outputs": [],
   "source": [
    "!pip install scipy\n",
    "!pip install networkx\n",
    "!pip install numpy\n",
    "!pip install matplotlib"
   ]
  },
  {
   "cell_type": "markdown",
   "id": "78eb7cad",
   "metadata": {},
   "source": [
    "### For single agent "
   ]
  },
  {
   "cell_type": "code",
   "execution_count": null,
   "id": "6df8779c",
   "metadata": {},
   "outputs": [],
   "source": [
    "!pip install gymnasium"
   ]
  },
  {
   "cell_type": "markdown",
   "id": "54e81fef",
   "metadata": {},
   "source": [
    "### For multi agent "
   ]
  },
  {
   "cell_type": "code",
   "execution_count": null,
   "id": "800628ba",
   "metadata": {},
   "outputs": [],
   "source": [
    "!pip install pettingzoo\n",
    "!pip install pygame"
   ]
  }
 ],
 "metadata": {
  "kernelspec": {
   "display_name": "Python 3 (ipykernel)",
   "language": "python",
   "name": "python3"
  },
  "language_info": {
   "codemirror_mode": {
    "name": "ipython",
    "version": 3
   },
   "file_extension": ".py",
   "mimetype": "text/x-python",
   "name": "python",
   "nbconvert_exporter": "python",
   "pygments_lexer": "ipython3",
   "version": "3.10.6"
  }
 },
 "nbformat": 4,
 "nbformat_minor": 5
}
