{
 "cells": [
  {
   "cell_type": "markdown",
   "id": "774278ce",
   "metadata": {},
   "source": [
    "## Run this block of code so that all the dependencies get installed"
   ]
  },
  {
   "cell_type": "code",
   "execution_count": null,
   "id": "2a2b864e",
   "metadata": {},
   "outputs": [],
   "source": [
    "!pip install scipy\n",
    "!pip install networkx\n",
    "!pip install numpy\n",
    "!pip install matplotlib\n",
    "!pip install gymnasium\n",
    "!pip install pprint\n"
   ]
  }
 ],
 "metadata": {
  "kernelspec": {
   "display_name": "Python 3 (ipykernel)",
   "language": "python",
   "name": "python3"
  },
  "language_info": {
   "codemirror_mode": {
    "name": "ipython",
    "version": 3
   },
   "file_extension": ".py",
   "mimetype": "text/x-python",
   "name": "python",
   "nbconvert_exporter": "python",
   "pygments_lexer": "ipython3",
   "version": "3.10.6"
  }
 },
 "nbformat": 4,
 "nbformat_minor": 5
}
